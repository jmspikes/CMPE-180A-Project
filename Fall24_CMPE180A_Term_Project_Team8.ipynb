{
  "nbformat": 4,
  "nbformat_minor": 0,
  "metadata": {
    "colab": {
      "provenance": []
    },
    "kernelspec": {
      "name": "python3",
      "display_name": "Python 3"
    },
    "language_info": {
      "name": "python"
    }
  },
  "cells": [
    {
      "cell_type": "markdown",
      "source": [
        "# SJSU CMPE 180A Data Structures and Algorithms in Python\n",
        "\n",
        "**Term Project** (20 points)\n",
        "\n",
        "** Project Name:  your_dataset_name Analytics**\n",
        "\n",
        "Team Name:  Jet Setters (example)\n",
        "\n",
        "Group Number: 8\n",
        "\n",
        "Group members with SJSU IDs:\n",
        "\n",
        "\n",
        "1.   Bradley Yong, 008383440\n",
        "2.   Jonathan Spikes, SJSU_ID 2\n",
        "3.   Lisa Leib, 018264155\n",
        "\n",
        "\n",
        "Date:  August 29, 2024"
      ],
      "metadata": {
        "id": "Erj3VW1AZyUE"
      }
    },
    {
      "cell_type": "markdown",
      "source": [
        "Selected data set:  [US Airline Flight Routes and Fares](https://www.kaggle.com/code/nitikagupta29/us-airline-flight-routes-and-fares)\n",
        "\n",
        "\n",
        "\n",
        "\n",
        "\n",
        "\n",
        "\n"
      ],
      "metadata": {
        "id": "OjaStfUIdlZM"
      }
    },
    {
      "cell_type": "markdown",
      "source": [
        "## Dataset analysis and visualisation\n",
        "\n",
        "The goal of dataset analysis is to explain what dataset represents and to illustrate the most interesting and relevant features i.e. columns present in dataset.\n",
        "\n",
        "Possible steps:\n",
        "1. Load dataset\n",
        "2. Inspect data and preprocess columns if needed\n",
        "3. Visualize data (histogram, scatterplot,...)\n",
        "4. Analyze dataset by plotting or presenting overview of different classes/groups/features\n",
        "5. Present your results: prepare slides and an  5 to 10-minute presentation in Week 11 of the course\n"
      ],
      "metadata": {
        "id": "ZpqYjYbLeca3"
      }
    },
    {
      "cell_type": "markdown",
      "source": [
        "# 1. Load dataset"
      ],
      "metadata": {
        "id": "rdOFH6Xx72-J"
      }
    },
    {
      "cell_type": "markdown",
      "source": [
        "## Environment Preparation"
      ],
      "metadata": {
        "id": "QyRLLIVhT0vu"
      }
    },
    {
      "cell_type": "code",
      "source": [
        "# enable mounting of google drive\n",
        "from google.colab import drive\n",
        "drive.mount('/content/drive')\n"
      ],
      "metadata": {
        "id": "L999rBj-Tt92",
        "colab": {
          "base_uri": "https://localhost:8080/"
        },
        "outputId": "476ef872-430c-4176-e170-e55c2d8fcc4f"
      },
      "execution_count": 2,
      "outputs": [
        {
          "output_type": "stream",
          "name": "stdout",
          "text": [
            "Mounted at /content/drive\n"
          ]
        }
      ]
    },
    {
      "cell_type": "code",
      "source": [
        "# import neccesary libraries\n",
        "import numpy as np\n",
        "import pandas as pd\n",
        "import matplotlib.pyplot as plt\n",
        "from tabulate import tabulate\n",
        "import sys\n",
        "import seaborn as sns"
      ],
      "metadata": {
        "id": "e2-FMwPo7-IN"
      },
      "execution_count": 3,
      "outputs": []
    },
    {
      "cell_type": "markdown",
      "source": [
        "## Load Data files"
      ],
      "metadata": {
        "id": "MzWvOCjeT9iC"
      }
    },
    {
      "cell_type": "code",
      "source": [
        "# US Airline Flight Routes and Fares\n",
        "# https://www.kaggle.com/code/nitikagupta29/us-airline-flight-routes-and-fares\n",
        "\n",
        "filename = \"/content/drive/MyDrive/data/US Airline Flight Routes and Fares 1993-2024.csv\"\n",
        "\n",
        "# df = pd.read_csv(filename)\n",
        "df = pd.read_csv(filename, low_memory=False)\n",
        "\n",
        "df.head()\n",
        "\n"
      ],
      "metadata": {
        "colab": {
          "base_uri": "https://localhost:8080/",
          "height": 365
        },
        "id": "npd955vg8Cmu",
        "outputId": "3e4f5ebc-a38f-4395-e378-8cc73a30a8f4"
      },
      "execution_count": 4,
      "outputs": [
        {
          "output_type": "error",
          "ename": "FileNotFoundError",
          "evalue": "[Errno 2] No such file or directory: '/content/drive/MyDrive/data/US Airline Flight Routes and Fares 1993-2024.csv'",
          "traceback": [
            "\u001b[0;31m---------------------------------------------------------------------------\u001b[0m",
            "\u001b[0;31mFileNotFoundError\u001b[0m                         Traceback (most recent call last)",
            "\u001b[0;32m<ipython-input-4-ecdf8b2b182d>\u001b[0m in \u001b[0;36m<cell line: 7>\u001b[0;34m()\u001b[0m\n\u001b[1;32m      5\u001b[0m \u001b[0;34m\u001b[0m\u001b[0m\n\u001b[1;32m      6\u001b[0m \u001b[0;31m# df = pd.read_csv(filename)\u001b[0m\u001b[0;34m\u001b[0m\u001b[0;34m\u001b[0m\u001b[0m\n\u001b[0;32m----> 7\u001b[0;31m \u001b[0mdf\u001b[0m \u001b[0;34m=\u001b[0m \u001b[0mpd\u001b[0m\u001b[0;34m.\u001b[0m\u001b[0mread_csv\u001b[0m\u001b[0;34m(\u001b[0m\u001b[0mfilename\u001b[0m\u001b[0;34m,\u001b[0m \u001b[0mlow_memory\u001b[0m\u001b[0;34m=\u001b[0m\u001b[0;32mFalse\u001b[0m\u001b[0;34m)\u001b[0m\u001b[0;34m\u001b[0m\u001b[0;34m\u001b[0m\u001b[0m\n\u001b[0m\u001b[1;32m      8\u001b[0m \u001b[0;34m\u001b[0m\u001b[0m\n\u001b[1;32m      9\u001b[0m \u001b[0mdf\u001b[0m\u001b[0;34m.\u001b[0m\u001b[0mhead\u001b[0m\u001b[0;34m(\u001b[0m\u001b[0;34m)\u001b[0m\u001b[0;34m\u001b[0m\u001b[0;34m\u001b[0m\u001b[0m\n",
            "\u001b[0;32m/usr/local/lib/python3.10/dist-packages/pandas/io/parsers/readers.py\u001b[0m in \u001b[0;36mread_csv\u001b[0;34m(filepath_or_buffer, sep, delimiter, header, names, index_col, usecols, dtype, engine, converters, true_values, false_values, skipinitialspace, skiprows, skipfooter, nrows, na_values, keep_default_na, na_filter, verbose, skip_blank_lines, parse_dates, infer_datetime_format, keep_date_col, date_parser, date_format, dayfirst, cache_dates, iterator, chunksize, compression, thousands, decimal, lineterminator, quotechar, quoting, doublequote, escapechar, comment, encoding, encoding_errors, dialect, on_bad_lines, delim_whitespace, low_memory, memory_map, float_precision, storage_options, dtype_backend)\u001b[0m\n\u001b[1;32m    946\u001b[0m     \u001b[0mkwds\u001b[0m\u001b[0;34m.\u001b[0m\u001b[0mupdate\u001b[0m\u001b[0;34m(\u001b[0m\u001b[0mkwds_defaults\u001b[0m\u001b[0;34m)\u001b[0m\u001b[0;34m\u001b[0m\u001b[0;34m\u001b[0m\u001b[0m\n\u001b[1;32m    947\u001b[0m \u001b[0;34m\u001b[0m\u001b[0m\n\u001b[0;32m--> 948\u001b[0;31m     \u001b[0;32mreturn\u001b[0m \u001b[0m_read\u001b[0m\u001b[0;34m(\u001b[0m\u001b[0mfilepath_or_buffer\u001b[0m\u001b[0;34m,\u001b[0m \u001b[0mkwds\u001b[0m\u001b[0;34m)\u001b[0m\u001b[0;34m\u001b[0m\u001b[0;34m\u001b[0m\u001b[0m\n\u001b[0m\u001b[1;32m    949\u001b[0m \u001b[0;34m\u001b[0m\u001b[0m\n\u001b[1;32m    950\u001b[0m \u001b[0;34m\u001b[0m\u001b[0m\n",
            "\u001b[0;32m/usr/local/lib/python3.10/dist-packages/pandas/io/parsers/readers.py\u001b[0m in \u001b[0;36m_read\u001b[0;34m(filepath_or_buffer, kwds)\u001b[0m\n\u001b[1;32m    609\u001b[0m \u001b[0;34m\u001b[0m\u001b[0m\n\u001b[1;32m    610\u001b[0m     \u001b[0;31m# Create the parser.\u001b[0m\u001b[0;34m\u001b[0m\u001b[0;34m\u001b[0m\u001b[0m\n\u001b[0;32m--> 611\u001b[0;31m     \u001b[0mparser\u001b[0m \u001b[0;34m=\u001b[0m \u001b[0mTextFileReader\u001b[0m\u001b[0;34m(\u001b[0m\u001b[0mfilepath_or_buffer\u001b[0m\u001b[0;34m,\u001b[0m \u001b[0;34m**\u001b[0m\u001b[0mkwds\u001b[0m\u001b[0;34m)\u001b[0m\u001b[0;34m\u001b[0m\u001b[0;34m\u001b[0m\u001b[0m\n\u001b[0m\u001b[1;32m    612\u001b[0m \u001b[0;34m\u001b[0m\u001b[0m\n\u001b[1;32m    613\u001b[0m     \u001b[0;32mif\u001b[0m \u001b[0mchunksize\u001b[0m \u001b[0;32mor\u001b[0m \u001b[0miterator\u001b[0m\u001b[0;34m:\u001b[0m\u001b[0;34m\u001b[0m\u001b[0;34m\u001b[0m\u001b[0m\n",
            "\u001b[0;32m/usr/local/lib/python3.10/dist-packages/pandas/io/parsers/readers.py\u001b[0m in \u001b[0;36m__init__\u001b[0;34m(self, f, engine, **kwds)\u001b[0m\n\u001b[1;32m   1446\u001b[0m \u001b[0;34m\u001b[0m\u001b[0m\n\u001b[1;32m   1447\u001b[0m         \u001b[0mself\u001b[0m\u001b[0;34m.\u001b[0m\u001b[0mhandles\u001b[0m\u001b[0;34m:\u001b[0m \u001b[0mIOHandles\u001b[0m \u001b[0;34m|\u001b[0m \u001b[0;32mNone\u001b[0m \u001b[0;34m=\u001b[0m \u001b[0;32mNone\u001b[0m\u001b[0;34m\u001b[0m\u001b[0;34m\u001b[0m\u001b[0m\n\u001b[0;32m-> 1448\u001b[0;31m         \u001b[0mself\u001b[0m\u001b[0;34m.\u001b[0m\u001b[0m_engine\u001b[0m \u001b[0;34m=\u001b[0m \u001b[0mself\u001b[0m\u001b[0;34m.\u001b[0m\u001b[0m_make_engine\u001b[0m\u001b[0;34m(\u001b[0m\u001b[0mf\u001b[0m\u001b[0;34m,\u001b[0m \u001b[0mself\u001b[0m\u001b[0;34m.\u001b[0m\u001b[0mengine\u001b[0m\u001b[0;34m)\u001b[0m\u001b[0;34m\u001b[0m\u001b[0;34m\u001b[0m\u001b[0m\n\u001b[0m\u001b[1;32m   1449\u001b[0m \u001b[0;34m\u001b[0m\u001b[0m\n\u001b[1;32m   1450\u001b[0m     \u001b[0;32mdef\u001b[0m \u001b[0mclose\u001b[0m\u001b[0;34m(\u001b[0m\u001b[0mself\u001b[0m\u001b[0;34m)\u001b[0m \u001b[0;34m->\u001b[0m \u001b[0;32mNone\u001b[0m\u001b[0;34m:\u001b[0m\u001b[0;34m\u001b[0m\u001b[0;34m\u001b[0m\u001b[0m\n",
            "\u001b[0;32m/usr/local/lib/python3.10/dist-packages/pandas/io/parsers/readers.py\u001b[0m in \u001b[0;36m_make_engine\u001b[0;34m(self, f, engine)\u001b[0m\n\u001b[1;32m   1703\u001b[0m                 \u001b[0;32mif\u001b[0m \u001b[0;34m\"b\"\u001b[0m \u001b[0;32mnot\u001b[0m \u001b[0;32min\u001b[0m \u001b[0mmode\u001b[0m\u001b[0;34m:\u001b[0m\u001b[0;34m\u001b[0m\u001b[0;34m\u001b[0m\u001b[0m\n\u001b[1;32m   1704\u001b[0m                     \u001b[0mmode\u001b[0m \u001b[0;34m+=\u001b[0m \u001b[0;34m\"b\"\u001b[0m\u001b[0;34m\u001b[0m\u001b[0;34m\u001b[0m\u001b[0m\n\u001b[0;32m-> 1705\u001b[0;31m             self.handles = get_handle(\n\u001b[0m\u001b[1;32m   1706\u001b[0m                 \u001b[0mf\u001b[0m\u001b[0;34m,\u001b[0m\u001b[0;34m\u001b[0m\u001b[0;34m\u001b[0m\u001b[0m\n\u001b[1;32m   1707\u001b[0m                 \u001b[0mmode\u001b[0m\u001b[0;34m,\u001b[0m\u001b[0;34m\u001b[0m\u001b[0;34m\u001b[0m\u001b[0m\n",
            "\u001b[0;32m/usr/local/lib/python3.10/dist-packages/pandas/io/common.py\u001b[0m in \u001b[0;36mget_handle\u001b[0;34m(path_or_buf, mode, encoding, compression, memory_map, is_text, errors, storage_options)\u001b[0m\n\u001b[1;32m    861\u001b[0m         \u001b[0;32mif\u001b[0m \u001b[0mioargs\u001b[0m\u001b[0;34m.\u001b[0m\u001b[0mencoding\u001b[0m \u001b[0;32mand\u001b[0m \u001b[0;34m\"b\"\u001b[0m \u001b[0;32mnot\u001b[0m \u001b[0;32min\u001b[0m \u001b[0mioargs\u001b[0m\u001b[0;34m.\u001b[0m\u001b[0mmode\u001b[0m\u001b[0;34m:\u001b[0m\u001b[0;34m\u001b[0m\u001b[0;34m\u001b[0m\u001b[0m\n\u001b[1;32m    862\u001b[0m             \u001b[0;31m# Encoding\u001b[0m\u001b[0;34m\u001b[0m\u001b[0;34m\u001b[0m\u001b[0m\n\u001b[0;32m--> 863\u001b[0;31m             handle = open(\n\u001b[0m\u001b[1;32m    864\u001b[0m                 \u001b[0mhandle\u001b[0m\u001b[0;34m,\u001b[0m\u001b[0;34m\u001b[0m\u001b[0;34m\u001b[0m\u001b[0m\n\u001b[1;32m    865\u001b[0m                 \u001b[0mioargs\u001b[0m\u001b[0;34m.\u001b[0m\u001b[0mmode\u001b[0m\u001b[0;34m,\u001b[0m\u001b[0;34m\u001b[0m\u001b[0;34m\u001b[0m\u001b[0m\n",
            "\u001b[0;31mFileNotFoundError\u001b[0m: [Errno 2] No such file or directory: '/content/drive/MyDrive/data/US Airline Flight Routes and Fares 1993-2024.csv'"
          ]
        }
      ]
    },
    {
      "cell_type": "code",
      "source": [
        "# Data enrichment files\n",
        "\n",
        "# Lookup data for Airline names and two digit codes\n",
        "airlinecodes = '/content/drive/MyDrive/data/AirlineCodes.csv'\n",
        "df_airline_codes = pd.read_csv(airlinecodes)\n",
        "# df_airline_codes.head()\n",
        "\n",
        "# Lookup data for Airport geolocation (Latitude/Longitude)\n",
        "geolocations = '/content/drive/MyDrive/data/Geocodes.csv'\n",
        "df_geolocations = pd.read_csv(geolocations)\n",
        "# df_geolocations.head()\n",
        "print('Enrichment data loaded')"
      ],
      "metadata": {
        "id": "ph4Rns1YUGGz",
        "colab": {
          "base_uri": "https://localhost:8080/",
          "height": 365
        },
        "outputId": "e3ccfcc5-5e3f-49d1-fda4-050f60501771"
      },
      "execution_count": 5,
      "outputs": [
        {
          "output_type": "error",
          "ename": "FileNotFoundError",
          "evalue": "[Errno 2] No such file or directory: '/content/drive/MyDrive/data/AirlineCodes.csv'",
          "traceback": [
            "\u001b[0;31m---------------------------------------------------------------------------\u001b[0m",
            "\u001b[0;31mFileNotFoundError\u001b[0m                         Traceback (most recent call last)",
            "\u001b[0;32m<ipython-input-5-5e9b45ebdcf5>\u001b[0m in \u001b[0;36m<cell line: 5>\u001b[0;34m()\u001b[0m\n\u001b[1;32m      3\u001b[0m \u001b[0;31m# Lookup data for Airline names and two digit codes\u001b[0m\u001b[0;34m\u001b[0m\u001b[0;34m\u001b[0m\u001b[0m\n\u001b[1;32m      4\u001b[0m \u001b[0mairlinecodes\u001b[0m \u001b[0;34m=\u001b[0m \u001b[0;34m'/content/drive/MyDrive/data/AirlineCodes.csv'\u001b[0m\u001b[0;34m\u001b[0m\u001b[0;34m\u001b[0m\u001b[0m\n\u001b[0;32m----> 5\u001b[0;31m \u001b[0mdf_airline_codes\u001b[0m \u001b[0;34m=\u001b[0m \u001b[0mpd\u001b[0m\u001b[0;34m.\u001b[0m\u001b[0mread_csv\u001b[0m\u001b[0;34m(\u001b[0m\u001b[0mairlinecodes\u001b[0m\u001b[0;34m)\u001b[0m\u001b[0;34m\u001b[0m\u001b[0;34m\u001b[0m\u001b[0m\n\u001b[0m\u001b[1;32m      6\u001b[0m \u001b[0;31m# df_airline_codes.head()\u001b[0m\u001b[0;34m\u001b[0m\u001b[0;34m\u001b[0m\u001b[0m\n\u001b[1;32m      7\u001b[0m \u001b[0;34m\u001b[0m\u001b[0m\n",
            "\u001b[0;32m/usr/local/lib/python3.10/dist-packages/pandas/io/parsers/readers.py\u001b[0m in \u001b[0;36mread_csv\u001b[0;34m(filepath_or_buffer, sep, delimiter, header, names, index_col, usecols, dtype, engine, converters, true_values, false_values, skipinitialspace, skiprows, skipfooter, nrows, na_values, keep_default_na, na_filter, verbose, skip_blank_lines, parse_dates, infer_datetime_format, keep_date_col, date_parser, date_format, dayfirst, cache_dates, iterator, chunksize, compression, thousands, decimal, lineterminator, quotechar, quoting, doublequote, escapechar, comment, encoding, encoding_errors, dialect, on_bad_lines, delim_whitespace, low_memory, memory_map, float_precision, storage_options, dtype_backend)\u001b[0m\n\u001b[1;32m    946\u001b[0m     \u001b[0mkwds\u001b[0m\u001b[0;34m.\u001b[0m\u001b[0mupdate\u001b[0m\u001b[0;34m(\u001b[0m\u001b[0mkwds_defaults\u001b[0m\u001b[0;34m)\u001b[0m\u001b[0;34m\u001b[0m\u001b[0;34m\u001b[0m\u001b[0m\n\u001b[1;32m    947\u001b[0m \u001b[0;34m\u001b[0m\u001b[0m\n\u001b[0;32m--> 948\u001b[0;31m     \u001b[0;32mreturn\u001b[0m \u001b[0m_read\u001b[0m\u001b[0;34m(\u001b[0m\u001b[0mfilepath_or_buffer\u001b[0m\u001b[0;34m,\u001b[0m \u001b[0mkwds\u001b[0m\u001b[0;34m)\u001b[0m\u001b[0;34m\u001b[0m\u001b[0;34m\u001b[0m\u001b[0m\n\u001b[0m\u001b[1;32m    949\u001b[0m \u001b[0;34m\u001b[0m\u001b[0m\n\u001b[1;32m    950\u001b[0m \u001b[0;34m\u001b[0m\u001b[0m\n",
            "\u001b[0;32m/usr/local/lib/python3.10/dist-packages/pandas/io/parsers/readers.py\u001b[0m in \u001b[0;36m_read\u001b[0;34m(filepath_or_buffer, kwds)\u001b[0m\n\u001b[1;32m    609\u001b[0m \u001b[0;34m\u001b[0m\u001b[0m\n\u001b[1;32m    610\u001b[0m     \u001b[0;31m# Create the parser.\u001b[0m\u001b[0;34m\u001b[0m\u001b[0;34m\u001b[0m\u001b[0m\n\u001b[0;32m--> 611\u001b[0;31m     \u001b[0mparser\u001b[0m \u001b[0;34m=\u001b[0m \u001b[0mTextFileReader\u001b[0m\u001b[0;34m(\u001b[0m\u001b[0mfilepath_or_buffer\u001b[0m\u001b[0;34m,\u001b[0m \u001b[0;34m**\u001b[0m\u001b[0mkwds\u001b[0m\u001b[0;34m)\u001b[0m\u001b[0;34m\u001b[0m\u001b[0;34m\u001b[0m\u001b[0m\n\u001b[0m\u001b[1;32m    612\u001b[0m \u001b[0;34m\u001b[0m\u001b[0m\n\u001b[1;32m    613\u001b[0m     \u001b[0;32mif\u001b[0m \u001b[0mchunksize\u001b[0m \u001b[0;32mor\u001b[0m \u001b[0miterator\u001b[0m\u001b[0;34m:\u001b[0m\u001b[0;34m\u001b[0m\u001b[0;34m\u001b[0m\u001b[0m\n",
            "\u001b[0;32m/usr/local/lib/python3.10/dist-packages/pandas/io/parsers/readers.py\u001b[0m in \u001b[0;36m__init__\u001b[0;34m(self, f, engine, **kwds)\u001b[0m\n\u001b[1;32m   1446\u001b[0m \u001b[0;34m\u001b[0m\u001b[0m\n\u001b[1;32m   1447\u001b[0m         \u001b[0mself\u001b[0m\u001b[0;34m.\u001b[0m\u001b[0mhandles\u001b[0m\u001b[0;34m:\u001b[0m \u001b[0mIOHandles\u001b[0m \u001b[0;34m|\u001b[0m \u001b[0;32mNone\u001b[0m \u001b[0;34m=\u001b[0m \u001b[0;32mNone\u001b[0m\u001b[0;34m\u001b[0m\u001b[0;34m\u001b[0m\u001b[0m\n\u001b[0;32m-> 1448\u001b[0;31m         \u001b[0mself\u001b[0m\u001b[0;34m.\u001b[0m\u001b[0m_engine\u001b[0m \u001b[0;34m=\u001b[0m \u001b[0mself\u001b[0m\u001b[0;34m.\u001b[0m\u001b[0m_make_engine\u001b[0m\u001b[0;34m(\u001b[0m\u001b[0mf\u001b[0m\u001b[0;34m,\u001b[0m \u001b[0mself\u001b[0m\u001b[0;34m.\u001b[0m\u001b[0mengine\u001b[0m\u001b[0;34m)\u001b[0m\u001b[0;34m\u001b[0m\u001b[0;34m\u001b[0m\u001b[0m\n\u001b[0m\u001b[1;32m   1449\u001b[0m \u001b[0;34m\u001b[0m\u001b[0m\n\u001b[1;32m   1450\u001b[0m     \u001b[0;32mdef\u001b[0m \u001b[0mclose\u001b[0m\u001b[0;34m(\u001b[0m\u001b[0mself\u001b[0m\u001b[0;34m)\u001b[0m \u001b[0;34m->\u001b[0m \u001b[0;32mNone\u001b[0m\u001b[0;34m:\u001b[0m\u001b[0;34m\u001b[0m\u001b[0;34m\u001b[0m\u001b[0m\n",
            "\u001b[0;32m/usr/local/lib/python3.10/dist-packages/pandas/io/parsers/readers.py\u001b[0m in \u001b[0;36m_make_engine\u001b[0;34m(self, f, engine)\u001b[0m\n\u001b[1;32m   1703\u001b[0m                 \u001b[0;32mif\u001b[0m \u001b[0;34m\"b\"\u001b[0m \u001b[0;32mnot\u001b[0m \u001b[0;32min\u001b[0m \u001b[0mmode\u001b[0m\u001b[0;34m:\u001b[0m\u001b[0;34m\u001b[0m\u001b[0;34m\u001b[0m\u001b[0m\n\u001b[1;32m   1704\u001b[0m                     \u001b[0mmode\u001b[0m \u001b[0;34m+=\u001b[0m \u001b[0;34m\"b\"\u001b[0m\u001b[0;34m\u001b[0m\u001b[0;34m\u001b[0m\u001b[0m\n\u001b[0;32m-> 1705\u001b[0;31m             self.handles = get_handle(\n\u001b[0m\u001b[1;32m   1706\u001b[0m                 \u001b[0mf\u001b[0m\u001b[0;34m,\u001b[0m\u001b[0;34m\u001b[0m\u001b[0;34m\u001b[0m\u001b[0m\n\u001b[1;32m   1707\u001b[0m                 \u001b[0mmode\u001b[0m\u001b[0;34m,\u001b[0m\u001b[0;34m\u001b[0m\u001b[0;34m\u001b[0m\u001b[0m\n",
            "\u001b[0;32m/usr/local/lib/python3.10/dist-packages/pandas/io/common.py\u001b[0m in \u001b[0;36mget_handle\u001b[0;34m(path_or_buf, mode, encoding, compression, memory_map, is_text, errors, storage_options)\u001b[0m\n\u001b[1;32m    861\u001b[0m         \u001b[0;32mif\u001b[0m \u001b[0mioargs\u001b[0m\u001b[0;34m.\u001b[0m\u001b[0mencoding\u001b[0m \u001b[0;32mand\u001b[0m \u001b[0;34m\"b\"\u001b[0m \u001b[0;32mnot\u001b[0m \u001b[0;32min\u001b[0m \u001b[0mioargs\u001b[0m\u001b[0;34m.\u001b[0m\u001b[0mmode\u001b[0m\u001b[0;34m:\u001b[0m\u001b[0;34m\u001b[0m\u001b[0;34m\u001b[0m\u001b[0m\n\u001b[1;32m    862\u001b[0m             \u001b[0;31m# Encoding\u001b[0m\u001b[0;34m\u001b[0m\u001b[0;34m\u001b[0m\u001b[0m\n\u001b[0;32m--> 863\u001b[0;31m             handle = open(\n\u001b[0m\u001b[1;32m    864\u001b[0m                 \u001b[0mhandle\u001b[0m\u001b[0;34m,\u001b[0m\u001b[0;34m\u001b[0m\u001b[0;34m\u001b[0m\u001b[0m\n\u001b[1;32m    865\u001b[0m                 \u001b[0mioargs\u001b[0m\u001b[0;34m.\u001b[0m\u001b[0mmode\u001b[0m\u001b[0;34m,\u001b[0m\u001b[0;34m\u001b[0m\u001b[0;34m\u001b[0m\u001b[0m\n",
            "\u001b[0;31mFileNotFoundError\u001b[0m: [Errno 2] No such file or directory: '/content/drive/MyDrive/data/AirlineCodes.csv'"
          ]
        }
      ]
    },
    {
      "cell_type": "markdown",
      "source": [
        "# 2. Inspect data and preprocess columns if needed"
      ],
      "metadata": {
        "id": "w5ov3v9u7w0m"
      }
    },
    {
      "cell_type": "markdown",
      "source": [
        "## 2.1 Data Inspection"
      ],
      "metadata": {
        "id": "p_3C5g5k8eak"
      }
    },
    {
      "cell_type": "markdown",
      "source": [
        "Data issues:\n",
        "```\n",
        "  1) Resolve warning --> DtypeWarning: Columns (20,21) have mixed types\n",
        "      * Geocoded_City1\n",
        "      * Geocoded_City2\n",
        "  2) Delete extraneous data:\n",
        "      * column: tbl\n",
        "      * column: tbl1apk\n",
        "  3) Missing data from columns: NO ACTION YET\n",
        "      * large_ms\n",
        "      * fare_lg\n",
        "      * lf_ms\n",
        "      * fare_low\n",
        "      * carrier_lg\n",
        "      * carrier_low\n",
        "  4) Additional Missing data:  NO ACTION YET\n",
        "      * No data for 1995\n",
        "      * Partial data for 2024\n",
        "  5) Evaluate object data types:  NO ACTION YET\n",
        "      * city1\n",
        "      * city2\n",
        "      * airport_1\n",
        "      * airport_2\n",
        "      * carrier_lg\n",
        "      * carrier_low\n",
        "  6) Awareness of rows with incomplete/inaccurate data?\n",
        "      * Passengers = 0  | 7,439 rows\n",
        "      * Airline = YY  | 12 rows\n",
        "      * Market Share (large + low) > 1\n",
        "```"
      ],
      "metadata": {
        "id": "ZpSN4-oZ8myP"
      }
    },
    {
      "cell_type": "code",
      "source": [
        "#\n",
        "\n",
        "print('Shape: ', df.shape)\n",
        "print('-----')\n",
        "df.info()\n",
        "# df.columns\n"
      ],
      "metadata": {
        "colab": {
          "base_uri": "https://localhost:8080/",
          "height": 216
        },
        "id": "BL76T6oY7xWc",
        "outputId": "5dd52d5a-41a1-47c4-f21e-b2349617dd2d"
      },
      "execution_count": 6,
      "outputs": [
        {
          "output_type": "error",
          "ename": "NameError",
          "evalue": "name 'df' is not defined",
          "traceback": [
            "\u001b[0;31m---------------------------------------------------------------------------\u001b[0m",
            "\u001b[0;31mNameError\u001b[0m                                 Traceback (most recent call last)",
            "\u001b[0;32m<ipython-input-6-808328a75a82>\u001b[0m in \u001b[0;36m<cell line: 3>\u001b[0;34m()\u001b[0m\n\u001b[1;32m      1\u001b[0m \u001b[0;31m#\u001b[0m\u001b[0;34m\u001b[0m\u001b[0;34m\u001b[0m\u001b[0m\n\u001b[1;32m      2\u001b[0m \u001b[0;34m\u001b[0m\u001b[0m\n\u001b[0;32m----> 3\u001b[0;31m \u001b[0mprint\u001b[0m\u001b[0;34m(\u001b[0m\u001b[0;34m'Shape: '\u001b[0m\u001b[0;34m,\u001b[0m \u001b[0mdf\u001b[0m\u001b[0;34m.\u001b[0m\u001b[0mshape\u001b[0m\u001b[0;34m)\u001b[0m\u001b[0;34m\u001b[0m\u001b[0;34m\u001b[0m\u001b[0m\n\u001b[0m\u001b[1;32m      4\u001b[0m \u001b[0mprint\u001b[0m\u001b[0;34m(\u001b[0m\u001b[0;34m'-----'\u001b[0m\u001b[0;34m)\u001b[0m\u001b[0;34m\u001b[0m\u001b[0;34m\u001b[0m\u001b[0m\n\u001b[1;32m      5\u001b[0m \u001b[0mdf\u001b[0m\u001b[0;34m.\u001b[0m\u001b[0minfo\u001b[0m\u001b[0;34m(\u001b[0m\u001b[0;34m)\u001b[0m\u001b[0;34m\u001b[0m\u001b[0;34m\u001b[0m\u001b[0m\n",
            "\u001b[0;31mNameError\u001b[0m: name 'df' is not defined"
          ]
        }
      ]
    },
    {
      "cell_type": "code",
      "source": [
        "df.describe()"
      ],
      "metadata": {
        "colab": {
          "base_uri": "https://localhost:8080/",
          "height": 300
        },
        "id": "5Q-qbxBH8POW",
        "outputId": "fb4e78f0-c2df-4f82-9493-885f8bc05985"
      },
      "execution_count": null,
      "outputs": [
        {
          "output_type": "execute_result",
          "data": {
            "text/plain": [
              "                Year        quarter  citymarketid_1  citymarketid_2  \\\n",
              "count  245955.000000  245955.000000   245955.000000   245955.000000   \n",
              "mean     2008.524124       2.479153    31556.430201    32180.117086   \n",
              "std         8.703364       1.122149     1089.872880     1232.464184   \n",
              "min      1993.000000       1.000000    30135.000000    30189.000000   \n",
              "25%      2001.000000       1.000000    30721.000000    30994.000000   \n",
              "50%      2008.000000       2.000000    31423.000000    32211.000000   \n",
              "75%      2016.000000       3.000000    32467.000000    33192.000000   \n",
              "max      2024.000000       4.000000    35412.000000    35628.000000   \n",
              "\n",
              "         airportid_1    airportid_2        nsmiles     passengers  \\\n",
              "count  245955.000000  245955.000000  245955.000000  245955.000000   \n",
              "mean    12437.099986   13249.889525    1189.812319     299.476795   \n",
              "std      1431.665257    1425.810159     703.143472     511.389486   \n",
              "min     10135.000000   10466.000000     109.000000       0.000000   \n",
              "25%     11193.000000   12197.000000     626.000000      21.000000   \n",
              "50%     12266.000000   13303.000000    1023.000000     113.000000   \n",
              "75%     13487.000000   14679.000000    1736.000000     339.000000   \n",
              "max     16440.000000   15919.000000    2724.000000    8301.000000   \n",
              "\n",
              "                fare       large_ms        fare_lg          lf_ms  \\\n",
              "count  245955.000000  244415.000000  244415.000000  244343.000000   \n",
              "mean      218.979587       0.665252     218.710963       0.450438   \n",
              "std        82.372486       0.224635      84.674363       0.332669   \n",
              "min        50.000000       0.003800      50.000000       0.010000   \n",
              "25%       164.620000       0.480000     161.500000       0.158000   \n",
              "50%       209.320000       0.652400     208.030000       0.360000   \n",
              "75%       262.890000       0.871900     263.640000       0.750000   \n",
              "max      3377.000000       1.000000    2725.600000       1.000000   \n",
              "\n",
              "            fare_low  \n",
              "count  244343.000000  \n",
              "mean      190.675939  \n",
              "std        73.577694  \n",
              "min        50.000000  \n",
              "25%       140.060000  \n",
              "50%       181.630000  \n",
              "75%       230.040000  \n",
              "max      2725.600000  "
            ],
            "text/html": [
              "\n",
              "  <div id=\"df-8302f6bd-ad74-4fd4-995f-4e76585a83ae\" class=\"colab-df-container\">\n",
              "    <div>\n",
              "<style scoped>\n",
              "    .dataframe tbody tr th:only-of-type {\n",
              "        vertical-align: middle;\n",
              "    }\n",
              "\n",
              "    .dataframe tbody tr th {\n",
              "        vertical-align: top;\n",
              "    }\n",
              "\n",
              "    .dataframe thead th {\n",
              "        text-align: right;\n",
              "    }\n",
              "</style>\n",
              "<table border=\"1\" class=\"dataframe\">\n",
              "  <thead>\n",
              "    <tr style=\"text-align: right;\">\n",
              "      <th></th>\n",
              "      <th>Year</th>\n",
              "      <th>quarter</th>\n",
              "      <th>citymarketid_1</th>\n",
              "      <th>citymarketid_2</th>\n",
              "      <th>airportid_1</th>\n",
              "      <th>airportid_2</th>\n",
              "      <th>nsmiles</th>\n",
              "      <th>passengers</th>\n",
              "      <th>fare</th>\n",
              "      <th>large_ms</th>\n",
              "      <th>fare_lg</th>\n",
              "      <th>lf_ms</th>\n",
              "      <th>fare_low</th>\n",
              "    </tr>\n",
              "  </thead>\n",
              "  <tbody>\n",
              "    <tr>\n",
              "      <th>count</th>\n",
              "      <td>245955.000000</td>\n",
              "      <td>245955.000000</td>\n",
              "      <td>245955.000000</td>\n",
              "      <td>245955.000000</td>\n",
              "      <td>245955.000000</td>\n",
              "      <td>245955.000000</td>\n",
              "      <td>245955.000000</td>\n",
              "      <td>245955.000000</td>\n",
              "      <td>245955.000000</td>\n",
              "      <td>244415.000000</td>\n",
              "      <td>244415.000000</td>\n",
              "      <td>244343.000000</td>\n",
              "      <td>244343.000000</td>\n",
              "    </tr>\n",
              "    <tr>\n",
              "      <th>mean</th>\n",
              "      <td>2008.524124</td>\n",
              "      <td>2.479153</td>\n",
              "      <td>31556.430201</td>\n",
              "      <td>32180.117086</td>\n",
              "      <td>12437.099986</td>\n",
              "      <td>13249.889525</td>\n",
              "      <td>1189.812319</td>\n",
              "      <td>299.476795</td>\n",
              "      <td>218.979587</td>\n",
              "      <td>0.665252</td>\n",
              "      <td>218.710963</td>\n",
              "      <td>0.450438</td>\n",
              "      <td>190.675939</td>\n",
              "    </tr>\n",
              "    <tr>\n",
              "      <th>std</th>\n",
              "      <td>8.703364</td>\n",
              "      <td>1.122149</td>\n",
              "      <td>1089.872880</td>\n",
              "      <td>1232.464184</td>\n",
              "      <td>1431.665257</td>\n",
              "      <td>1425.810159</td>\n",
              "      <td>703.143472</td>\n",
              "      <td>511.389486</td>\n",
              "      <td>82.372486</td>\n",
              "      <td>0.224635</td>\n",
              "      <td>84.674363</td>\n",
              "      <td>0.332669</td>\n",
              "      <td>73.577694</td>\n",
              "    </tr>\n",
              "    <tr>\n",
              "      <th>min</th>\n",
              "      <td>1993.000000</td>\n",
              "      <td>1.000000</td>\n",
              "      <td>30135.000000</td>\n",
              "      <td>30189.000000</td>\n",
              "      <td>10135.000000</td>\n",
              "      <td>10466.000000</td>\n",
              "      <td>109.000000</td>\n",
              "      <td>0.000000</td>\n",
              "      <td>50.000000</td>\n",
              "      <td>0.003800</td>\n",
              "      <td>50.000000</td>\n",
              "      <td>0.010000</td>\n",
              "      <td>50.000000</td>\n",
              "    </tr>\n",
              "    <tr>\n",
              "      <th>25%</th>\n",
              "      <td>2001.000000</td>\n",
              "      <td>1.000000</td>\n",
              "      <td>30721.000000</td>\n",
              "      <td>30994.000000</td>\n",
              "      <td>11193.000000</td>\n",
              "      <td>12197.000000</td>\n",
              "      <td>626.000000</td>\n",
              "      <td>21.000000</td>\n",
              "      <td>164.620000</td>\n",
              "      <td>0.480000</td>\n",
              "      <td>161.500000</td>\n",
              "      <td>0.158000</td>\n",
              "      <td>140.060000</td>\n",
              "    </tr>\n",
              "    <tr>\n",
              "      <th>50%</th>\n",
              "      <td>2008.000000</td>\n",
              "      <td>2.000000</td>\n",
              "      <td>31423.000000</td>\n",
              "      <td>32211.000000</td>\n",
              "      <td>12266.000000</td>\n",
              "      <td>13303.000000</td>\n",
              "      <td>1023.000000</td>\n",
              "      <td>113.000000</td>\n",
              "      <td>209.320000</td>\n",
              "      <td>0.652400</td>\n",
              "      <td>208.030000</td>\n",
              "      <td>0.360000</td>\n",
              "      <td>181.630000</td>\n",
              "    </tr>\n",
              "    <tr>\n",
              "      <th>75%</th>\n",
              "      <td>2016.000000</td>\n",
              "      <td>3.000000</td>\n",
              "      <td>32467.000000</td>\n",
              "      <td>33192.000000</td>\n",
              "      <td>13487.000000</td>\n",
              "      <td>14679.000000</td>\n",
              "      <td>1736.000000</td>\n",
              "      <td>339.000000</td>\n",
              "      <td>262.890000</td>\n",
              "      <td>0.871900</td>\n",
              "      <td>263.640000</td>\n",
              "      <td>0.750000</td>\n",
              "      <td>230.040000</td>\n",
              "    </tr>\n",
              "    <tr>\n",
              "      <th>max</th>\n",
              "      <td>2024.000000</td>\n",
              "      <td>4.000000</td>\n",
              "      <td>35412.000000</td>\n",
              "      <td>35628.000000</td>\n",
              "      <td>16440.000000</td>\n",
              "      <td>15919.000000</td>\n",
              "      <td>2724.000000</td>\n",
              "      <td>8301.000000</td>\n",
              "      <td>3377.000000</td>\n",
              "      <td>1.000000</td>\n",
              "      <td>2725.600000</td>\n",
              "      <td>1.000000</td>\n",
              "      <td>2725.600000</td>\n",
              "    </tr>\n",
              "  </tbody>\n",
              "</table>\n",
              "</div>\n",
              "    <div class=\"colab-df-buttons\">\n",
              "\n",
              "  <div class=\"colab-df-container\">\n",
              "    <button class=\"colab-df-convert\" onclick=\"convertToInteractive('df-8302f6bd-ad74-4fd4-995f-4e76585a83ae')\"\n",
              "            title=\"Convert this dataframe to an interactive table.\"\n",
              "            style=\"display:none;\">\n",
              "\n",
              "  <svg xmlns=\"http://www.w3.org/2000/svg\" height=\"24px\" viewBox=\"0 -960 960 960\">\n",
              "    <path d=\"M120-120v-720h720v720H120Zm60-500h600v-160H180v160Zm220 220h160v-160H400v160Zm0 220h160v-160H400v160ZM180-400h160v-160H180v160Zm440 0h160v-160H620v160ZM180-180h160v-160H180v160Zm440 0h160v-160H620v160Z\"/>\n",
              "  </svg>\n",
              "    </button>\n",
              "\n",
              "  <style>\n",
              "    .colab-df-container {\n",
              "      display:flex;\n",
              "      gap: 12px;\n",
              "    }\n",
              "\n",
              "    .colab-df-convert {\n",
              "      background-color: #E8F0FE;\n",
              "      border: none;\n",
              "      border-radius: 50%;\n",
              "      cursor: pointer;\n",
              "      display: none;\n",
              "      fill: #1967D2;\n",
              "      height: 32px;\n",
              "      padding: 0 0 0 0;\n",
              "      width: 32px;\n",
              "    }\n",
              "\n",
              "    .colab-df-convert:hover {\n",
              "      background-color: #E2EBFA;\n",
              "      box-shadow: 0px 1px 2px rgba(60, 64, 67, 0.3), 0px 1px 3px 1px rgba(60, 64, 67, 0.15);\n",
              "      fill: #174EA6;\n",
              "    }\n",
              "\n",
              "    .colab-df-buttons div {\n",
              "      margin-bottom: 4px;\n",
              "    }\n",
              "\n",
              "    [theme=dark] .colab-df-convert {\n",
              "      background-color: #3B4455;\n",
              "      fill: #D2E3FC;\n",
              "    }\n",
              "\n",
              "    [theme=dark] .colab-df-convert:hover {\n",
              "      background-color: #434B5C;\n",
              "      box-shadow: 0px 1px 3px 1px rgba(0, 0, 0, 0.15);\n",
              "      filter: drop-shadow(0px 1px 2px rgba(0, 0, 0, 0.3));\n",
              "      fill: #FFFFFF;\n",
              "    }\n",
              "  </style>\n",
              "\n",
              "    <script>\n",
              "      const buttonEl =\n",
              "        document.querySelector('#df-8302f6bd-ad74-4fd4-995f-4e76585a83ae button.colab-df-convert');\n",
              "      buttonEl.style.display =\n",
              "        google.colab.kernel.accessAllowed ? 'block' : 'none';\n",
              "\n",
              "      async function convertToInteractive(key) {\n",
              "        const element = document.querySelector('#df-8302f6bd-ad74-4fd4-995f-4e76585a83ae');\n",
              "        const dataTable =\n",
              "          await google.colab.kernel.invokeFunction('convertToInteractive',\n",
              "                                                    [key], {});\n",
              "        if (!dataTable) return;\n",
              "\n",
              "        const docLinkHtml = 'Like what you see? Visit the ' +\n",
              "          '<a target=\"_blank\" href=https://colab.research.google.com/notebooks/data_table.ipynb>data table notebook</a>'\n",
              "          + ' to learn more about interactive tables.';\n",
              "        element.innerHTML = '';\n",
              "        dataTable['output_type'] = 'display_data';\n",
              "        await google.colab.output.renderOutput(dataTable, element);\n",
              "        const docLink = document.createElement('div');\n",
              "        docLink.innerHTML = docLinkHtml;\n",
              "        element.appendChild(docLink);\n",
              "      }\n",
              "    </script>\n",
              "  </div>\n",
              "\n",
              "\n",
              "<div id=\"df-5801aa1c-d9d5-4b3b-ad51-b8cabd979c71\">\n",
              "  <button class=\"colab-df-quickchart\" onclick=\"quickchart('df-5801aa1c-d9d5-4b3b-ad51-b8cabd979c71')\"\n",
              "            title=\"Suggest charts\"\n",
              "            style=\"display:none;\">\n",
              "\n",
              "<svg xmlns=\"http://www.w3.org/2000/svg\" height=\"24px\"viewBox=\"0 0 24 24\"\n",
              "     width=\"24px\">\n",
              "    <g>\n",
              "        <path d=\"M19 3H5c-1.1 0-2 .9-2 2v14c0 1.1.9 2 2 2h14c1.1 0 2-.9 2-2V5c0-1.1-.9-2-2-2zM9 17H7v-7h2v7zm4 0h-2V7h2v10zm4 0h-2v-4h2v4z\"/>\n",
              "    </g>\n",
              "</svg>\n",
              "  </button>\n",
              "\n",
              "<style>\n",
              "  .colab-df-quickchart {\n",
              "      --bg-color: #E8F0FE;\n",
              "      --fill-color: #1967D2;\n",
              "      --hover-bg-color: #E2EBFA;\n",
              "      --hover-fill-color: #174EA6;\n",
              "      --disabled-fill-color: #AAA;\n",
              "      --disabled-bg-color: #DDD;\n",
              "  }\n",
              "\n",
              "  [theme=dark] .colab-df-quickchart {\n",
              "      --bg-color: #3B4455;\n",
              "      --fill-color: #D2E3FC;\n",
              "      --hover-bg-color: #434B5C;\n",
              "      --hover-fill-color: #FFFFFF;\n",
              "      --disabled-bg-color: #3B4455;\n",
              "      --disabled-fill-color: #666;\n",
              "  }\n",
              "\n",
              "  .colab-df-quickchart {\n",
              "    background-color: var(--bg-color);\n",
              "    border: none;\n",
              "    border-radius: 50%;\n",
              "    cursor: pointer;\n",
              "    display: none;\n",
              "    fill: var(--fill-color);\n",
              "    height: 32px;\n",
              "    padding: 0;\n",
              "    width: 32px;\n",
              "  }\n",
              "\n",
              "  .colab-df-quickchart:hover {\n",
              "    background-color: var(--hover-bg-color);\n",
              "    box-shadow: 0 1px 2px rgba(60, 64, 67, 0.3), 0 1px 3px 1px rgba(60, 64, 67, 0.15);\n",
              "    fill: var(--button-hover-fill-color);\n",
              "  }\n",
              "\n",
              "  .colab-df-quickchart-complete:disabled,\n",
              "  .colab-df-quickchart-complete:disabled:hover {\n",
              "    background-color: var(--disabled-bg-color);\n",
              "    fill: var(--disabled-fill-color);\n",
              "    box-shadow: none;\n",
              "  }\n",
              "\n",
              "  .colab-df-spinner {\n",
              "    border: 2px solid var(--fill-color);\n",
              "    border-color: transparent;\n",
              "    border-bottom-color: var(--fill-color);\n",
              "    animation:\n",
              "      spin 1s steps(1) infinite;\n",
              "  }\n",
              "\n",
              "  @keyframes spin {\n",
              "    0% {\n",
              "      border-color: transparent;\n",
              "      border-bottom-color: var(--fill-color);\n",
              "      border-left-color: var(--fill-color);\n",
              "    }\n",
              "    20% {\n",
              "      border-color: transparent;\n",
              "      border-left-color: var(--fill-color);\n",
              "      border-top-color: var(--fill-color);\n",
              "    }\n",
              "    30% {\n",
              "      border-color: transparent;\n",
              "      border-left-color: var(--fill-color);\n",
              "      border-top-color: var(--fill-color);\n",
              "      border-right-color: var(--fill-color);\n",
              "    }\n",
              "    40% {\n",
              "      border-color: transparent;\n",
              "      border-right-color: var(--fill-color);\n",
              "      border-top-color: var(--fill-color);\n",
              "    }\n",
              "    60% {\n",
              "      border-color: transparent;\n",
              "      border-right-color: var(--fill-color);\n",
              "    }\n",
              "    80% {\n",
              "      border-color: transparent;\n",
              "      border-right-color: var(--fill-color);\n",
              "      border-bottom-color: var(--fill-color);\n",
              "    }\n",
              "    90% {\n",
              "      border-color: transparent;\n",
              "      border-bottom-color: var(--fill-color);\n",
              "    }\n",
              "  }\n",
              "</style>\n",
              "\n",
              "  <script>\n",
              "    async function quickchart(key) {\n",
              "      const quickchartButtonEl =\n",
              "        document.querySelector('#' + key + ' button');\n",
              "      quickchartButtonEl.disabled = true;  // To prevent multiple clicks.\n",
              "      quickchartButtonEl.classList.add('colab-df-spinner');\n",
              "      try {\n",
              "        const charts = await google.colab.kernel.invokeFunction(\n",
              "            'suggestCharts', [key], {});\n",
              "      } catch (error) {\n",
              "        console.error('Error during call to suggestCharts:', error);\n",
              "      }\n",
              "      quickchartButtonEl.classList.remove('colab-df-spinner');\n",
              "      quickchartButtonEl.classList.add('colab-df-quickchart-complete');\n",
              "    }\n",
              "    (() => {\n",
              "      let quickchartButtonEl =\n",
              "        document.querySelector('#df-5801aa1c-d9d5-4b3b-ad51-b8cabd979c71 button');\n",
              "      quickchartButtonEl.style.display =\n",
              "        google.colab.kernel.accessAllowed ? 'block' : 'none';\n",
              "    })();\n",
              "  </script>\n",
              "</div>\n",
              "\n",
              "    </div>\n",
              "  </div>\n"
            ],
            "application/vnd.google.colaboratory.intrinsic+json": {
              "type": "dataframe",
              "summary": "{\n  \"name\": \"df\",\n  \"rows\": 8,\n  \"fields\": [\n    {\n      \"column\": \"Year\",\n      \"properties\": {\n        \"dtype\": \"number\",\n        \"std\": 86351.97699579528,\n        \"min\": 8.703364465257575,\n        \"max\": 245955.0,\n        \"num_unique_values\": 8,\n        \"samples\": [\n          2008.5241243316866,\n          2008.0,\n          245955.0\n        ],\n        \"semantic_type\": \"\",\n        \"description\": \"\"\n      }\n    },\n    {\n      \"column\": \"quarter\",\n      \"properties\": {\n        \"dtype\": \"number\",\n        \"std\": 86957.48671278958,\n        \"min\": 1.0,\n        \"max\": 245955.0,\n        \"num_unique_values\": 7,\n        \"samples\": [\n          245955.0,\n          2.479152690532821,\n          3.0\n        ],\n        \"semantic_type\": \"\",\n        \"description\": \"\"\n      }\n    },\n    {\n      \"column\": \"citymarketid_1\",\n      \"properties\": {\n        \"dtype\": \"number\",\n        \"std\": 77987.69244287246,\n        \"min\": 1089.87287979106,\n        \"max\": 245955.0,\n        \"num_unique_values\": 8,\n        \"samples\": [\n          31556.43020064646,\n          31423.0,\n          245955.0\n        ],\n        \"semantic_type\": \"\",\n        \"description\": \"\"\n      }\n    },\n    {\n      \"column\": \"citymarketid_2\",\n      \"properties\": {\n        \"dtype\": \"number\",\n        \"std\": 77861.84636908384,\n        \"min\": 1232.4641838007478,\n        \"max\": 245955.0,\n        \"num_unique_values\": 8,\n        \"samples\": [\n          32180.117086458904,\n          32211.0,\n          245955.0\n        ],\n        \"semantic_type\": \"\",\n        \"description\": \"\"\n      }\n    },\n    {\n      \"column\": \"airportid_1\",\n      \"properties\": {\n        \"dtype\": \"number\",\n        \"std\": 83162.69982406277,\n        \"min\": 1431.6652574644775,\n        \"max\": 245955.0,\n        \"num_unique_values\": 8,\n        \"samples\": [\n          12437.099985769755,\n          12266.0,\n          245955.0\n        ],\n        \"semantic_type\": \"\",\n        \"description\": \"\"\n      }\n    },\n    {\n      \"column\": \"airportid_2\",\n      \"properties\": {\n        \"dtype\": \"number\",\n        \"std\": 82974.66865630147,\n        \"min\": 1425.810159475252,\n        \"max\": 245955.0,\n        \"num_unique_values\": 8,\n        \"samples\": [\n          13249.889524506516,\n          13303.0,\n          245955.0\n        ],\n        \"semantic_type\": \"\",\n        \"description\": \"\"\n      }\n    },\n    {\n      \"column\": \"nsmiles\",\n      \"properties\": {\n        \"dtype\": \"number\",\n        \"std\": 86552.18699110442,\n        \"min\": 109.0,\n        \"max\": 245955.0,\n        \"num_unique_values\": 8,\n        \"samples\": [\n          1189.812319326706,\n          1023.0,\n          245955.0\n        ],\n        \"semantic_type\": \"\",\n        \"description\": \"\"\n      }\n    },\n    {\n      \"column\": \"passengers\",\n      \"properties\": {\n        \"dtype\": \"number\",\n        \"std\": 86520.57563315438,\n        \"min\": 0.0,\n        \"max\": 245955.0,\n        \"num_unique_values\": 8,\n        \"samples\": [\n          299.4767945355858,\n          113.0,\n          245955.0\n        ],\n        \"semantic_type\": \"\",\n        \"description\": \"\"\n      }\n    },\n    {\n      \"column\": \"fare\",\n      \"properties\": {\n        \"dtype\": \"number\",\n        \"std\": 86745.06097338746,\n        \"min\": 50.0,\n        \"max\": 245955.0,\n        \"num_unique_values\": 8,\n        \"samples\": [\n          218.97958679433225,\n          209.32,\n          245955.0\n        ],\n        \"semantic_type\": \"\",\n        \"description\": \"\"\n      }\n    },\n    {\n      \"column\": \"large_ms\",\n      \"properties\": {\n        \"dtype\": \"number\",\n        \"std\": 86413.55508442715,\n        \"min\": 0.0038,\n        \"max\": 244415.0,\n        \"num_unique_values\": 8,\n        \"samples\": [\n          0.6652516330830759,\n          0.6524,\n          244415.0\n        ],\n        \"semantic_type\": \"\",\n        \"description\": \"\"\n      }\n    },\n    {\n      \"column\": \"fare_lg\",\n      \"properties\": {\n        \"dtype\": \"number\",\n        \"std\": 86230.94558727431,\n        \"min\": 50.0,\n        \"max\": 244415.0,\n        \"num_unique_values\": 8,\n        \"samples\": [\n          218.71096270687153,\n          208.03,\n          244415.0\n        ],\n        \"semantic_type\": \"\",\n        \"description\": \"\"\n      }\n    },\n    {\n      \"column\": \"lf_ms\",\n      \"properties\": {\n        \"dtype\": \"number\",\n        \"std\": 86388.14150907645,\n        \"min\": 0.01,\n        \"max\": 244343.0,\n        \"num_unique_values\": 8,\n        \"samples\": [\n          0.4504375124312954,\n          0.36,\n          244343.0\n        ],\n        \"semantic_type\": \"\",\n        \"description\": \"\"\n      }\n    },\n    {\n      \"column\": \"fare_low\",\n      \"properties\": {\n        \"dtype\": \"number\",\n        \"std\": 86211.64623007318,\n        \"min\": 50.0,\n        \"max\": 244343.0,\n        \"num_unique_values\": 8,\n        \"samples\": [\n          190.6759387827767,\n          181.63,\n          244343.0\n        ],\n        \"semantic_type\": \"\",\n        \"description\": \"\"\n      }\n    }\n  ]\n}"
            }
          },
          "metadata": {},
          "execution_count": 7
        }
      ]
    },
    {
      "cell_type": "markdown",
      "source": [
        "Original Missing values\n",
        "\n",
        "![image.png](data:image/png;base64,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)"
      ],
      "metadata": {
        "id": "DaJOreDQXGOW"
      }
    },
    {
      "cell_type": "code",
      "source": [
        "#\n",
        "missing_values = df.isnull().sum()\n",
        "print(missing_values)\n"
      ],
      "metadata": {
        "id": "x0XzEnCL8r_z"
      },
      "execution_count": null,
      "outputs": []
    },
    {
      "cell_type": "markdown",
      "source": [
        "## 2.2 Data Cleansing"
      ],
      "metadata": {
        "id": "egn6c6gq8b_V"
      }
    },
    {
      "cell_type": "code",
      "source": [
        "#  Cleaning the data -- Standardizing column names\n",
        "\n",
        "df.rename(columns={'large_ms': 'carrier_lg_ms'}, inplace=True)\n",
        "df.rename(columns={'fare_lg': 'carrier_lg_fare'}, inplace=True)\n",
        "df.rename(columns={'lf_ms': 'carrier_low_ms'}, inplace=True)\n",
        "df.rename(columns={'fare_low': 'carrier_low_fare'}, inplace=True)\n",
        "df.rename(columns={'lf_ms': 'carrier_low_ms'}, inplace=True)\n",
        "df.rename(columns={'fare_low': 'carrier_low_fare'}, inplace=True)\n",
        "df.rename(columns={'fare': 'avg_fare'}, inplace=True)\n",
        "\n",
        "# df.info()\n",
        "# print(df.shape)"
      ],
      "metadata": {
        "id": "frZ26KHZ9tRe"
      },
      "execution_count": null,
      "outputs": []
    },
    {
      "cell_type": "code",
      "source": [
        "#  Cleaning the data -- Deleting unneccessary columns\n",
        "\n",
        "# Drop columns with any missing values\n",
        "# df_cleaned_columns = df.dropna(axis=1)  #  deletes any column that contain any missing values (NaN) from the DataFrame -->  I don't like this approach\n",
        "# Best to delete specific columns\n",
        "del df['tbl1apk']\n",
        "del df['tbl']\n",
        "del df['Geocoded_City1']\n",
        "del df['Geocoded_City2']\n",
        "\n",
        "df.info()\n",
        "# print(df.shape)"
      ],
      "metadata": {
        "id": "7Kc4IY00VCCn"
      },
      "execution_count": null,
      "outputs": []
    },
    {
      "cell_type": "code",
      "source": [
        "#  Cleaning the data -- Enriching the data with additional Carrier name info\n",
        "#\n",
        "# Adding Decode names for Airlines Name by merging with df_airline_codes\n",
        "df_airline_codes.rename(columns={'Code': 'carrier_lg'}, inplace=True)\n",
        "df_airline_codes.rename(columns={'Decode': 'carrier_lg_name'}, inplace=True)\n",
        "df = pd.merge(df, df_airline_codes, on='carrier_lg', how='left')\n",
        "df_airline_codes.rename(columns={'carrier_lg': 'carrier_low'}, inplace=True)\n",
        "df_airline_codes.rename(columns={'carrier_lg_name': 'carrier_low_name'}, inplace=True)\n",
        "df = pd.merge(df, df_airline_codes, on='carrier_low', how='left')\n",
        "\n",
        "# print(df.info())"
      ],
      "metadata": {
        "id": "T1yGkFxNU_7P"
      },
      "execution_count": null,
      "outputs": []
    },
    {
      "cell_type": "code",
      "source": [
        "#  Cleaning the data -- Updating the format and values for Geolocation columns\n",
        "\n",
        "# Adding Geocode locations by merging with df_geolocations\n",
        "df_geolocations.rename(columns={'airport': 'airport_1'}, inplace=True)\n",
        "df_geolocations.rename(columns={'Geolocation': 'geolocation_1'}, inplace=True)\n",
        "df = pd.merge(df, df_geolocations, on='airport_1', how='left')\n",
        "\n",
        "df_geolocations.rename(columns={'airport_1': 'airport_2'}, inplace=True)\n",
        "df_geolocations.rename(columns={'geolocation_1': 'geolocation_2'}, inplace=True)\n",
        "df = pd.merge(df, df_geolocations, on='airport_2', how='left')\n",
        "\n",
        "# df.info()\n",
        "# print(df.shape)"
      ],
      "metadata": {
        "id": "Dd8FNfNKU_m0"
      },
      "execution_count": null,
      "outputs": []
    },
    {
      "cell_type": "code",
      "source": [
        "#  Cleaning the data -- Reordering the columns in the dataframe\n",
        "#\n",
        "new_order = ['Year',\n",
        "             'quarter',\n",
        "             'citymarketid_1',\n",
        "             'citymarketid_2',\n",
        "             'city1',\n",
        "             'city2',\n",
        "             'airportid_1',\n",
        "             'airportid_2',\n",
        "             'airport_1',\n",
        "             'airport_2',\n",
        "             'nsmiles',\n",
        "             'passengers',\n",
        "             'avg_fare',\n",
        "             'carrier_lg',\n",
        "             'carrier_lg_name',\n",
        "             'carrier_lg_ms',\n",
        "             'carrier_lg_fare',\n",
        "             'carrier_low',\n",
        "             'carrier_low_name',\n",
        "             'carrier_low_ms',\n",
        "             'carrier_low_fare',\n",
        "             'geolocation_1',\n",
        "             'geolocation_2'\n",
        "             ]\n",
        "\n",
        "df = df.reindex(columns=new_order)\n",
        "\n",
        "# print(df.info())"
      ],
      "metadata": {
        "id": "OTTG5V51U_am"
      },
      "execution_count": null,
      "outputs": []
    },
    {
      "cell_type": "code",
      "source": [
        "df.describe()\n"
      ],
      "metadata": {
        "id": "xhOCDyDUU_Lf",
        "colab": {
          "base_uri": "https://localhost:8080/",
          "height": 144
        },
        "outputId": "3f39e9bc-cfdd-4ad6-aebc-960fab6ef72b"
      },
      "execution_count": 1,
      "outputs": [
        {
          "output_type": "error",
          "ename": "NameError",
          "evalue": "name 'df' is not defined",
          "traceback": [
            "\u001b[0;31m---------------------------------------------------------------------------\u001b[0m",
            "\u001b[0;31mNameError\u001b[0m                                 Traceback (most recent call last)",
            "\u001b[0;32m<ipython-input-1-ea8415b8a3ee>\u001b[0m in \u001b[0;36m<cell line: 1>\u001b[0;34m()\u001b[0m\n\u001b[0;32m----> 1\u001b[0;31m \u001b[0mdf\u001b[0m\u001b[0;34m.\u001b[0m\u001b[0mdescribe\u001b[0m\u001b[0;34m(\u001b[0m\u001b[0;34m)\u001b[0m\u001b[0;34m\u001b[0m\u001b[0;34m\u001b[0m\u001b[0m\n\u001b[0m",
            "\u001b[0;31mNameError\u001b[0m: name 'df' is not defined"
          ]
        }
      ]
    },
    {
      "cell_type": "markdown",
      "source": [
        "# 3. Visualize data (histogram, scatterplot,...)"
      ],
      "metadata": {
        "id": "fILNmklY7qz5"
      }
    },
    {
      "cell_type": "code",
      "source": [],
      "metadata": {
        "id": "YIYiYDVgiwo3"
      },
      "execution_count": null,
      "outputs": []
    },
    {
      "cell_type": "markdown",
      "source": [
        "# 4. Analyze dataset by plotting or presenting overview of different classes/groups/features"
      ],
      "metadata": {
        "id": "BlpdSbtb7o44"
      }
    },
    {
      "cell_type": "code",
      "execution_count": null,
      "metadata": {
        "id": "NKcbrcAwZlGT"
      },
      "outputs": [],
      "source": []
    }
  ]
}